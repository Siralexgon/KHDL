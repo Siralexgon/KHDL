{
 "cells": [
  {
   "cell_type": "markdown",
   "id": "445ceed6",
   "metadata": {},
   "source": [
    "## Question"
   ]
  },
  {
   "cell_type": "markdown",
   "id": "31695dc3",
   "metadata": {},
   "source": [
    "- Question: Tương quan sức mạnh của các Pokemon qua từng thế hệ khác nhau thế nào?\n",
    "\n",
    "- Benefits from answer: Có thể thấy được mức độ chênh lệch sức mạnh giữa các thế hệ Pokemon, từ đó sẽ có độ ưu tiên cho từng thế hệ khi chọn Pokemon.\n",
    "\n",
    "- How to answer: \n",
    "    1. Chia `df` thành từng dataframe riêng cho mỗi thế hệ.\n",
    "    2. Tính trung bình cho cột `Total` cho mỗi dataframe đã chia ra trước đó và lưu vào 1 list tạm.\n",
    "    3. Trực quan hóa dữ liệu bằng cách `plot` theo dạng `bar`."
   ]
  },
  {
   "cell_type": "code",
   "execution_count": 2,
   "id": "096d7367",
   "metadata": {},
   "outputs": [],
   "source": [
    "# Code here"
   ]
  }
 ],
 "metadata": {
  "kernelspec": {
   "display_name": "Python 3 (ipykernel)",
   "language": "python",
   "name": "python3"
  },
  "language_info": {
   "codemirror_mode": {
    "name": "ipython",
    "version": 3
   },
   "file_extension": ".py",
   "mimetype": "text/x-python",
   "name": "python",
   "nbconvert_exporter": "python",
   "pygments_lexer": "ipython3",
   "version": "3.12.0"
  }
 },
 "nbformat": 4,
 "nbformat_minor": 5
}
