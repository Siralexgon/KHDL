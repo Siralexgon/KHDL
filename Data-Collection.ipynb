{
 "cells": [
  {
   "cell_type": "markdown",
   "id": "ae0b71d2-ae70-4853-a813-e98ee58c107b",
   "metadata": {},
   "source": [
    "<div style=\"font-family: Arial, Helvetica, sans-serif;\">\n",
    "        <div style=\"font-weight:600; text-align: center; padding-top: 20px;\">TRƯỜNG ĐẠI HỌC KHOA HỌC TỰ NHIÊN - ĐẠI HỌC\n",
    "            QUỐC GIA THÀNH PHỐ HỒ\n",
    "            CHÍ\n",
    "            MINH</div>\n",
    "        <div style=\"font-size: 26px ;font-weight: 700; text-align: center;padding-top: 20px;\">ĐỒ ÁN THỰC HÀNH CUỐI KỲ\n",
    "        </div>\n",
    "        <div style=\"display: flex;\">\n",
    "            <div style=\"font-weight: 600; padding-right: 10px;\">Môn học: </div>\n",
    "            <div>Lập trình khoa học dữ liệu</div>\n",
    "        </div>\n",
    "        <div style=\"display: flex;\">\n",
    "            <div style=\"font-weight: 600; padding-right: 10px;\">Lớp: </div>\n",
    "            <div>21_21</div>\n",
    "        </div>\n",
    "        <div style=\"display: flex;\">\n",
    "            <div style=\"font-weight: 600; padding-right: 10px;\">Chủ đề: </div>\n",
    "            <div>Pokemon</div>\n",
    "        </div>\n",
    "        <div style=\"display: flex;\">\n",
    "            <div style=\"font-weight: 600; padding-right: 10px;\">Nhóm: </div>\n",
    "            <div>05</div>\n",
    "        </div>\n",
    "        <div>\n",
    "            <h1>Thành viên trong nhóm</h1>\n",
    "            <table style=\"font-size: 18px; display:flex;\" >\n",
    "                <tr>\n",
    "                    <th>STT</th>\n",
    "                    <th>MSSV</th>\n",
    "                    <th>Họ và tên</th>\n",
    "                </tr>\n",
    "                <tr>\n",
    "                    <td>1</td>\n",
    "                    <td>21120546</td>\n",
    "                    <td style=\"text-align:left;\">Nguyễn Thanh Sang</td>\n",
    "                </tr>\n",
    "                <tr>\n",
    "                    <td>2</td>\n",
    "                    <td>21120539</td>\n",
    "                    <td style=\"text-align:left;\">Trần Minh Quang</td>\n",
    "                </tr>\n",
    "                <tr>\n",
    "                    <td>3</td>\n",
    "                    <td>21120429</td>\n",
    "                    <td style=\"text-align:left;\">Lưu Kiến Đạt</td>\n",
    "                </tr>\n",
    "            </table>\n",
    "        </div>\n",
    "</div>"
   ]
  },
  {
   "cell_type": "markdown",
   "id": "06ae2800-d91b-402d-9080-1e7fe1f42efe",
   "metadata": {},
   "source": [
    "# A. Thu thập dữ liệu"
   ]
  },
  {
   "cell_type": "markdown",
   "id": "82329442-3f0a-40d8-8f2d-22353abc9b46",
   "metadata": {},
   "source": [
    "## 1. Chủ đề của data và nguồn gốc của data"
   ]
  },
  {
   "cell_type": "markdown",
   "id": "30da10c9-1a72-4b50-87af-e8b5d5232c24",
   "metadata": {},
   "source": [
    "- Chủ đề của data nói về các chi tiết của mỗi con Pokemon . Bởi lẽ đây là một chủ đề quen thuộc. Do đó nhóm đã chọn chủ đề này để tìm hiểu về sức mạnh của Pokemon.\n",
    "- Việc tìm kiếm tập dữ liệu cho chủ đề này là không quá khó vì nó có sẵn, đa dạng, phổ biến và được cung cấp miễn phí ở nhiều website\n",
    "- Và nhóm em đã thu nhập dữ liệu từ trang Kaggle\n",
    "- Link lấy dữ liệu : https://www.kaggle.com/datasets/abcsds/pokemon?fbclid=IwAR2dBTk_HK2RWNLROhGnoZYwlAeXzQMs4YkS5Ug9838RtPyHJJuVznGWJqM"
   ]
  },
  {
   "cell_type": "markdown",
   "id": "6c43ce8f-af1b-41f1-b9b1-f4bd8d21511c",
   "metadata": {},
   "source": [
    "## 2. Các điều khoản sử dụng data của tác giả"
   ]
  },
  {
   "cell_type": "markdown",
   "id": "d01d40a8-41be-4f50-a7a5-d04a2e059b39",
   "metadata": {},
   "source": [
    "- Tác giả đã cho phép sử dụng data và đây là file data Public\n",
    "- License : CCO: Public Domain\n",
    "- Link License : https://creativecommons.org/publicdomain/zero/1.0/"
   ]
  },
  {
   "cell_type": "markdown",
   "id": "9c76e926-a281-4023-8af3-91be86900d7a",
   "metadata": {},
   "source": [
    "##  3. Cách tác giả thu nhập dữ liệu"
   ]
  },
  {
   "cell_type": "markdown",
   "id": "ed5d43f5-7802-45fa-ae4c-b05b2373f8e7",
   "metadata": {},
   "source": [
    "Đây là các thuộc tính thô được sử dụng để tính toán mức độ thiệt hại mà một đòn tấn công sẽ gây ra trong trò chơi. Tập dữ liệu này nói về các trò chơi pokemon (KHÔNG phải thẻ pokemon hoặc Pokemon Go).\n",
    "\n",
    "Dữ liệu được Myles O'Neill mô tả là : Chi tiết của mỗi pokemon\n",
    "- Name: Tên của từng pokemon\n",
    "- Type 1: Mỗi pokemon có một loại, điều này quyết định điểm yếu/khả năng chống lại các cuộc tấn công\n",
    "- Type 2: Một số pokemon thuộc loại kép và có 2\n",
    "- Total: tổng của tất cả các chỉ số sau đó, hướng dẫn chung về sức mạnh của pokemon\n",
    "- HP: điểm nhấn hoặc máu, xác định mức độ sát thương mà pokemon có thể chịu được trước khi ngất xỉu\n",
    "- Attack: công cụ sửa đổi cơ bản cho các đòn tấn công thông thường (ví dụ: Scratch, Punch)\n",
    "- Defnse: khả năng chống chịu sát thương cơ bản trước các đòn tấn công thông thường\n",
    "- SP Atk: đòn tấn công đặc biệt, công cụ sửa đổi cơ sở cho các đòn tấn công đặc biệt (ví dụ: vụ nổ lửa, chùm bong bóng)\n",
    "- SP Def: khả năng chống chịu sát thương cơ bản trước các đòn tấn công đặc biệt\n",
    "- Legendary: Loại pokemon đó có phải legend không\n",
    "\n",
    "Dữ liệu cho bảng này được lấy từ nhiều trang khác nhau, bao gồm:\n",
    "- pokemon.com\n",
    "- pokemondb\n",
    "- bulbapedia"
   ]
  }
 ],
 "metadata": {
  "kernelspec": {
   "display_name": "Python 3 (ipykernel)",
   "language": "python",
   "name": "python3"
  },
  "language_info": {
   "codemirror_mode": {
    "name": "ipython",
    "version": 3
   },
   "file_extension": ".py",
   "mimetype": "text/x-python",
   "name": "python",
   "nbconvert_exporter": "python",
   "pygments_lexer": "ipython3",
   "version": "3.8.9"
  }
 },
 "nbformat": 4,
 "nbformat_minor": 5
}
